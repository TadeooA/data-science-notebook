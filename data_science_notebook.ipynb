{
  "metadata": {
    "kernelspec": {
      "name": "xpython",
      "display_name": "Python 3.13 (XPython)",
      "language": "python"
    },
    "language_info": {
      "file_extension": ".py",
      "mimetype": "text/x-python",
      "name": "python",
      "version": "3.13.1"
    }
  },
  "nbformat_minor": 5,
  "nbformat": 4,
  "cells": [
    {
      "id": "a5b7fabb-8354-445c-884c-ac451608b9fa",
      "cell_type": "markdown",
      "source": "# Data Science Tools and Ecosystem",
      "metadata": {}
    },
    {
      "id": "55f53f97-a571-4298-8f7b-ff537c5cf917",
      "cell_type": "markdown",
      "source": "## Introduction\n\nWelcome to this comprehensive notebook on Data Science tools and ecosystem. This notebook provides an overview of the essential programming languages, libraries, and tools that form the foundation of modern data science. \n\nData Science is an interdisciplinary field that combines statistical analysis, machine learning, and programming to extract insights from data. In this notebook, we'll explore the key components that make up the data science toolkit, including popular programming languages, essential libraries, and powerful tools that enable data scientists to work efficiently with large datasets and complex analyses.\n\nWhether you're just starting your data science journey or looking to expand your toolkit, this guide will help you understand the landscape of available technologies and their applications in real-world scenarios.",
      "metadata": {}
    },
    {
      "id": "13272601-fe68-4282-9dad-30964c168a40",
      "cell_type": "markdown",
      "source": "## Data Science Languages\n\nThe following are some of the most popular programming languages used in data science:\n\n1. **Python** - The most popular language for data science, known for its simplicity and extensive library ecosystem\n2. **R** - Specifically designed for statistical computing and graphics, excellent for data analysis\n3. **SQL** - Essential for database querying and data manipulation\n4. **Java** - Used for big data processing and enterprise-level applications\n5. **Scala** - Popular for big data frameworks like Apache Spark\n6. **Julia** - High-performance language for numerical and scientific computing\n7. **JavaScript** - Used for data visualization and web-based analytics\n8. **Go** - Emerging language for data engineering and microservices\n9. **C++** - Used for high-performance computing and algorithm implementation\n10. **MATLAB** - Traditional choice for mathematical modeling and analysis",
      "metadata": {}
    },
    {
      "id": "eb334673-c90c-459f-9f5e-2c21b34603a8",
      "cell_type": "markdown",
      "source": "## Data Science Libraries\n\nHere are some essential libraries commonly used in data science:\n\n**Python Libraries:**\n1. **Pandas** - Data manipulation and analysis\n2. **NumPy** - Numerical computing with arrays\n3. **Matplotlib** - Data visualization and plotting\n4. **Seaborn** - Statistical data visualization\n5. **Scikit-learn** - Machine learning algorithms\n6. **TensorFlow** - Deep learning framework\n7. **PyTorch** - Deep learning and neural networks\n8. **Keras** - High-level neural networks API\n9. **SciPy** - Scientific computing\n10. **Plotly** - Interactive visualizations\n\n**R Libraries:**\n1. **ggplot2** - Data visualization\n2. **dplyr** - Data manipulation\n3. **caret** - Classification and regression training\n4. **randomForest** - Random forest algorithm\n5. **shiny** - Web applications for R",
      "metadata": {}
    },
    {
      "id": "b8af6b92-7b9e-4864-9c48-e2980ee00f1c",
      "cell_type": "markdown",
      "source": "## Data Science Tools\n\n| Category | Tool | Description | Primary Use |\n|----------|------|-------------|-------------|\n| **Development Environment** | Jupyter Notebook | Interactive computing environment | Prototyping, analysis, documentation |\n| **Development Environment** | RStudio | IDE for R programming | R development and analysis |\n| **Development Environment** | PyCharm | Python IDE | Python development |\n| **Version Control** | Git | Distributed version control | Code versioning and collaboration |\n| **Version Control** | GitHub | Web-based Git repository hosting | Project hosting and collaboration |\n| **Big Data Processing** | Apache Spark | Distributed computing framework | Large-scale data processing |\n| **Big Data Processing** | Hadoop | Distributed storage and processing | Big data storage and analysis |\n| **Database** | MySQL | Relational database | Structured data storage |\n| **Database** | PostgreSQL | Advanced relational database | Complex queries and analytics |\n| **Database** | MongoDB | NoSQL database | Unstructured data storage |\n| **Visualization** | Tableau | Business intelligence tool | Interactive dashboards |\n| **Visualization** | Power BI | Microsoft's analytics platform | Business analytics and reporting |\n| **Cloud Platform** | AWS | Amazon Web Services | Cloud computing and ML services |\n| **Cloud Platform** | Google Cloud | Google's cloud platform | ML and data analytics services |\n| **Cloud Platform** | Azure | Microsoft's cloud platform | Enterprise cloud solutions |",
      "metadata": {}
    },
    {
      "id": "efd01d56-b1c3-4bad-a80a-78f0fb3b22fe",
      "cell_type": "markdown",
      "source": "## Arithmetic Expression Examples\n\nIn this section, we'll explore some basic arithmetic expressions that are commonly used in data science calculations. These fundamental operations form the building blocks for more complex mathematical computations used in statistical analysis, machine learning algorithms, and data transformations.\n\nThe following examples will demonstrate:\n- Basic arithmetic operations (addition, multiplication)\n- Unit conversions (time calculations)\n- How these simple operations can be combined to solve real-world problems",
      "metadata": {}
    },
    {
      "id": "25086796-b9ea-4c5a-bc1d-9c9070bd9562",
      "cell_type": "markdown",
      "source": "# This is a simple arithmetic expression that multiplies and then adds numbers\n# Let's calculate: (3 * 4) + 5\n\nresult = (3 * 4) + 5\nprint(f\"The result of (3 * 4) + 5 = {result}\")\n\n# Another example with different numbers\n# Calculate: (7 * 8) + 12\nresult2 = (7 * 8) + 12\nprint(f\"The result of (7 * 8) + 12 = {result2}\")\n\n# We can also store the multiplication result first\nmultiplication = 6 * 9\nfinal_result = multiplication + 15\nprint(f\"6 * 9 = {multiplication}\")\nprint(f\"Adding 15: {multiplication} + 15 = {final_result}\")",
      "metadata": {}
    },
    {
      "id": "2929f316-51c6-4598-bb50-3eab265fe4d8",
      "cell_type": "markdown",
      "source": "# This code will convert minutes to hours\n# Formula: hours = minutes / 60\n\ndef convert_minutes_to_hours(minutes):\n    \"\"\"Convert minutes to hours\"\"\"\n    hours = minutes / 60\n    return hours\n\n# Example conversions\nminutes_1 = 120\nhours_1 = convert_minutes_to_hours(minutes_1)\nprint(f\"{minutes_1} minutes = {hours_1} hours\")\n\nminutes_2 = 300\nhours_2 = convert_minutes_to_hours(minutes_2)\nprint(f\"{minutes_2} minutes = {hours_2} hours\")\n\n# Convert 90 minutes to hours with decimal\nminutes_3 = 90\nhours_3 = convert_minutes_to_hours(minutes_3)\nprint(f\"{minutes_3} minutes = {hours_3} hours\")\n\n# For better formatting, let's show hours and remaining minutes\ndef convert_minutes_detailed(total_minutes):\n    \"\"\"Convert minutes to hours and remaining minutes\"\"\"\n    hours = total_minutes // 60\n    remaining_minutes = total_minutes % 60\n    return hours, remaining_minutes\n\ntotal_min = 150\nh, m = convert_minutes_detailed(total_min)\nprint(f\"{total_min} minutes = {h} hours and {m} minutes\")",
      "metadata": {}
    },
    {
      "id": "1abfdd5d-c00f-44c4-a72d-da85373730cf",
      "cell_type": "markdown",
      "source": "## Author\n\n**[Tu Nombre Aquí]**\n\nData Science Enthusiast | Full Stack Developer\n\n*This notebook was created as part of a Data Science course assignment, demonstrating fundamental concepts in data science tools and programming.*",
      "metadata": {}
    },
    {
      "id": "e6601659-6e08-4e31-a65d-208c5309008b",
      "cell_type": "code",
      "source": "",
      "metadata": {
        "trusted": true
      },
      "outputs": [],
      "execution_count": null
    }
  ]
}